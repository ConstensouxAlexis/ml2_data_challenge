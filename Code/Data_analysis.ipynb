{
 "cells": [
  {
   "cell_type": "markdown",
   "metadata": {},
   "source": [
    "### Librairies import"
   ]
  },
  {
   "cell_type": "code",
   "execution_count": 18,
   "metadata": {},
   "outputs": [],
   "source": [
    "import pandas as pd\n",
    "import numpy as np\n",
    "import os\n",
    "import matplotlib.pyplot as plt"
   ]
  },
  {
   "cell_type": "markdown",
   "metadata": {},
   "source": [
    "### Loading data"
   ]
  },
  {
   "cell_type": "code",
   "execution_count": 2,
   "metadata": {},
   "outputs": [],
   "source": [
    "cwd = os.getcwd()\n",
    "data_wd = cwd.replace('Code', 'Datasets')\n",
    "train_path = data_wd + '\\\\train.csv'\n",
    "test_path = data_wd + '\\\\test.csv'"
   ]
  },
  {
   "cell_type": "code",
   "execution_count": 6,
   "metadata": {},
   "outputs": [],
   "source": [
    "train = pd.read_csv(train_path)\n",
    "test = pd.read_csv(test_path)"
   ]
  },
  {
   "cell_type": "code",
   "execution_count": 7,
   "metadata": {},
   "outputs": [],
   "source": [
    "X_train = train.drop('Cover_Type', axis=1)\n",
    "y_train = train['Cover_Type']\n",
    "X_test = test"
   ]
  },
  {
   "cell_type": "markdown",
   "metadata": {},
   "source": [
    "### Data cleaning"
   ]
  },
  {
   "cell_type": "code",
   "execution_count": 14,
   "metadata": {},
   "outputs": [
    {
     "data": {
      "text/plain": [
       "15120"
      ]
     },
     "execution_count": 14,
     "metadata": {},
     "output_type": "execute_result"
    }
   ],
   "source": [
    "len(train)"
   ]
  },
  {
   "cell_type": "code",
   "execution_count": 12,
   "metadata": {},
   "outputs": [
    {
     "name": "stdout",
     "output_type": "stream",
     "text": [
      "<class 'pandas.core.frame.DataFrame'>\n",
      "RangeIndex: 15120 entries, 0 to 15119\n",
      "Data columns (total 56 columns):\n",
      " #   Column                              Non-Null Count  Dtype\n",
      "---  ------                              --------------  -----\n",
      " 0   Id                                  15120 non-null  int64\n",
      " 1   Elevation                           15120 non-null  int64\n",
      " 2   Aspect                              15120 non-null  int64\n",
      " 3   Slope                               15120 non-null  int64\n",
      " 4   Horizontal_Distance_To_Hydrology    15120 non-null  int64\n",
      " 5   Vertical_Distance_To_Hydrology      15120 non-null  int64\n",
      " 6   Horizontal_Distance_To_Roadways     15120 non-null  int64\n",
      " 7   Hillshade_9am                       15120 non-null  int64\n",
      " 8   Hillshade_Noon                      15120 non-null  int64\n",
      " 9   Hillshade_3pm                       15120 non-null  int64\n",
      " 10  Horizontal_Distance_To_Fire_Points  15120 non-null  int64\n",
      " 11  Wilderness_Area1                    15120 non-null  int64\n",
      " 12  Wilderness_Area2                    15120 non-null  int64\n",
      " 13  Wilderness_Area3                    15120 non-null  int64\n",
      " 14  Wilderness_Area4                    15120 non-null  int64\n",
      " 15  Soil_Type1                          15120 non-null  int64\n",
      " 16  Soil_Type2                          15120 non-null  int64\n",
      " 17  Soil_Type3                          15120 non-null  int64\n",
      " 18  Soil_Type4                          15120 non-null  int64\n",
      " 19  Soil_Type5                          15120 non-null  int64\n",
      " 20  Soil_Type6                          15120 non-null  int64\n",
      " 21  Soil_Type7                          15120 non-null  int64\n",
      " 22  Soil_Type8                          15120 non-null  int64\n",
      " 23  Soil_Type9                          15120 non-null  int64\n",
      " 24  Soil_Type10                         15120 non-null  int64\n",
      " 25  Soil_Type11                         15120 non-null  int64\n",
      " 26  Soil_Type12                         15120 non-null  int64\n",
      " 27  Soil_Type13                         15120 non-null  int64\n",
      " 28  Soil_Type14                         15120 non-null  int64\n",
      " 29  Soil_Type15                         15120 non-null  int64\n",
      " 30  Soil_Type16                         15120 non-null  int64\n",
      " 31  Soil_Type17                         15120 non-null  int64\n",
      " 32  Soil_Type18                         15120 non-null  int64\n",
      " 33  Soil_Type19                         15120 non-null  int64\n",
      " 34  Soil_Type20                         15120 non-null  int64\n",
      " 35  Soil_Type21                         15120 non-null  int64\n",
      " 36  Soil_Type22                         15120 non-null  int64\n",
      " 37  Soil_Type23                         15120 non-null  int64\n",
      " 38  Soil_Type24                         15120 non-null  int64\n",
      " 39  Soil_Type25                         15120 non-null  int64\n",
      " 40  Soil_Type26                         15120 non-null  int64\n",
      " 41  Soil_Type27                         15120 non-null  int64\n",
      " 42  Soil_Type28                         15120 non-null  int64\n",
      " 43  Soil_Type29                         15120 non-null  int64\n",
      " 44  Soil_Type30                         15120 non-null  int64\n",
      " 45  Soil_Type31                         15120 non-null  int64\n",
      " 46  Soil_Type32                         15120 non-null  int64\n",
      " 47  Soil_Type33                         15120 non-null  int64\n",
      " 48  Soil_Type34                         15120 non-null  int64\n",
      " 49  Soil_Type35                         15120 non-null  int64\n",
      " 50  Soil_Type36                         15120 non-null  int64\n",
      " 51  Soil_Type37                         15120 non-null  int64\n",
      " 52  Soil_Type38                         15120 non-null  int64\n",
      " 53  Soil_Type39                         15120 non-null  int64\n",
      " 54  Soil_Type40                         15120 non-null  int64\n",
      " 55  Cover_Type                          15120 non-null  int64\n",
      "dtypes: int64(56)\n",
      "memory usage: 6.5 MB\n"
     ]
    }
   ],
   "source": [
    "train.info()"
   ]
  },
  {
   "cell_type": "markdown",
   "metadata": {},
   "source": [
    "We have no missing values in our dataframe, all data is in int64. Thus, no need to clean the dataset"
   ]
  },
  {
   "cell_type": "markdown",
   "metadata": {},
   "source": [
    "### Exploratory Data Analysis"
   ]
  },
  {
   "cell_type": "code",
   "execution_count": 46,
   "metadata": {},
   "outputs": [
    {
     "data": {
      "image/png": "[encoded data removed]",
      "text/plain": [
       "<Figure size 640x480 with 1 Axes>"
      ]
     },
     "metadata": {},
     "output_type": "display_data"
    }
   ],
   "source": [
    "types_count = train[['Id', 'Cover_Type']].groupby(['Cover_Type']).count().reset_index()\n",
    "plt.bar(types_count['Cover_Type'], types_count['Id'])\n",
    "plt.xlabel('Cover types')\n",
    "plt.title('Repartition of cover types');"
   ]
  },
  {
   "cell_type": "markdown",
   "metadata": {},
   "source": [
    "We see the the different cover types are equally distributed in the dataset"
   ]
  },
  {
   "cell_type": "markdown",
   "metadata": {},
   "source": [
    "Now, let's see if there are some obvious correlations within the data"
   ]
  },
  {
   "cell_type": "code",
   "execution_count": 11,
   "metadata": {
    "scrolled": true
   },
   "outputs": [
    {
     "data": {
      "text/plain": [
       "Wilderness_Area1                     -0.229981\n",
       "Soil_Type29                          -0.221978\n",
       "Soil_Type22                          -0.185038\n",
       "Soil_Type23                          -0.155529\n",
       "Soil_Type12                          -0.138125\n",
       "Soil_Type32                          -0.120156\n",
       "Horizontal_Distance_To_Roadways      -0.119576\n",
       "Horizontal_Distance_To_Fire_Points   -0.099413\n",
       "Soil_Type24                          -0.095006\n",
       "Hillshade_Noon                       -0.093008\n",
       "Soil_Type31                          -0.084343\n",
       "Soil_Type33                          -0.080941\n",
       "Soil_Type19                          -0.049798\n",
       "Hillshade_3pm                        -0.047372\n",
       "Soil_Type20                          -0.035903\n",
       "Soil_Type21                          -0.029585\n",
       "Soil_Type4                           -0.027012\n",
       "Wilderness_Area2                     -0.024327\n",
       "Soil_Type25                          -0.023245\n",
       "Soil_Type27                          -0.021570\n",
       "Soil_Type3                           -0.019240\n",
       "Soil_Type9                           -0.018301\n",
       "Soil_Type8                           -0.017253\n",
       "Hillshade_9am                        -0.015570\n",
       "Soil_Type28                          -0.013835\n",
       "Soil_Type7                           -0.008133\n",
       "Horizontal_Distance_To_Hydrology     -0.004266\n",
       "Soil_Type34                          -0.002877\n",
       "Soil_Type26                           0.002939\n",
       "Soil_Type11                           0.004247\n",
       "Soil_Type30                           0.006915\n",
       "Soil_Type6                            0.007026\n",
       "Aspect                                0.009439\n",
       "Soil_Type2                            0.009786\n",
       "Soil_Type18                           0.014120\n",
       "Elevation                             0.014241\n",
       "Soil_Type16                           0.016646\n",
       "Soil_Type1                            0.017423\n",
       "Soil_Type36                           0.022832\n",
       "Soil_Type14                           0.024875\n",
       "Soil_Type13                           0.028677\n",
       "Soil_Type5                            0.029799\n",
       "Id                                    0.034812\n",
       "Soil_Type17                           0.042376\n",
       "Soil_Type37                           0.069080\n",
       "Vertical_Distance_To_Hydrology        0.070615\n",
       "Wilderness_Area4                      0.074817\n",
       "Slope                                 0.086536\n",
       "Soil_Type35                           0.090457\n",
       "Wilderness_Area3                      0.137298\n",
       "Soil_Type10                           0.140102\n",
       "Soil_Type40                           0.199545\n",
       "Soil_Type39                           0.234777\n",
       "Soil_Type38                           0.254248\n",
       "Cover_Type                            1.000000\n",
       "Soil_Type15                                NaN\n",
       "dtype: float64"
      ]
     },
     "execution_count": 11,
     "metadata": {},
     "output_type": "execute_result"
    }
   ],
   "source": [
    "train.corrwith(train[\"Cover_Type\"], numeric_only=True).sort_values()"
   ]
  },
  {
   "cell_type": "markdown",
   "metadata": {},
   "source": [
    "We notice that the wildness area has the strongest correlation with the cover type. We'll tey to see graphically this correlation"
   ]
  },
  {
   "cell_type": "code",
   "execution_count": 22,
   "metadata": {},
   "outputs": [
    {
     "data": {
      "text/plain": [
       "(array([0, 1], dtype=int64), array([1, 2, 3, 4, 5, 6, 7], dtype=int64))"
      ]
     },
     "execution_count": 22,
     "metadata": {},
     "output_type": "execute_result"
    }
   ],
   "source": [
    "np.unique(train['Wilderness_Area1']), np.unique(train['Cover_Type'])"
   ]
  },
  {
   "cell_type": "code",
   "execution_count": 70,
   "metadata": {},
   "outputs": [],
   "source": [
    "hist_data = train[['Wilderness_Area1', 'Cover_Type']]\n",
    "hist_data = hist_data.groupby(['Cover_Type']).sum().reset_index()\n",
    "hist_data['Wilderness_Area0'] = 2160 - hist_data['Wilderness_Area1']"
   ]
  },
  {
   "cell_type": "code",
   "execution_count": 76,
   "metadata": {},
   "outputs": [
    {
     "data": {
      "image/png": "[encoded data removed]",
      "text/plain": [
       "<Figure size 640x480 with 1 Axes>"
      ]
     },
     "metadata": {},
     "output_type": "display_data"
    }
   ],
   "source": [
    "plt.bar(hist_data['Cover_Type'], hist_data['Wilderness_Area0'], label='Wilderness type 0')\n",
    "plt.bar(hist_data['Cover_Type'], hist_data['Wilderness_Area1'], \n",
    "        bottom=hist_data['Wilderness_Area0'], label = 'Wilderness type 1')\n",
    "plt.xlabel('Cover types')\n",
    "plt.ylabel('Number of areas')\n",
    "plt.title('Repartition of cover types by wilderness type 1')\n",
    "plt.legend();"
   ]
  },
  {
   "cell_type": "markdown",
   "metadata": {},
   "source": [
    "We notice that for the Cover types 3, 4 and 6, they can't be in wilderness 1"
   ]
  },
  {
   "cell_type": "code",
   "execution_count": null,
   "metadata": {},
   "outputs": [],
   "source": [
    "df = train[(train[\"Cover_Type\"] in (3, 4, 5))&\n",
    "                   (train[''])&\n",
    "                   (data[\"date\"] < pd.to_datetime(\"2021/01/23\"))]"
   ]
  }
 ],
 "metadata": {
  "kernelspec": {
   "display_name": "Python 3 (ipykernel)",
   "language": "python",
   "name": "python3"
  },
  "language_info": {
   "codemirror_mode": {
    "name": "ipython",
    "version": 3
   },
   "file_extension": ".py",
   "mimetype": "text/x-python",
   "name": "python",
   "nbconvert_exporter": "python",
   "pygments_lexer": "ipython3",
   "version": "3.9.13"
  },
  "vscode": {
   "interpreter": {
    "hash": "bdff7dbad578acc22e75e55d05439d5e528797caab23e54145253377086aada7"
   }
  }
 },
 "nbformat": 4,
 "nbformat_minor": 2
}
